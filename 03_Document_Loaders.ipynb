{
  "nbformat": 4,
  "nbformat_minor": 0,
  "metadata": {
    "colab": {
      "provenance": [],
      "authorship_tag": "ABX9TyPU84zLecLATCjXbV9IPyO5",
      "include_colab_link": true
    },
    "kernelspec": {
      "name": "python3",
      "display_name": "Python 3"
    },
    "language_info": {
      "name": "python"
    }
  },
  "cells": [
    {
      "cell_type": "markdown",
      "metadata": {
        "id": "view-in-github",
        "colab_type": "text"
      },
      "source": [
        "<a href=\"https://colab.research.google.com/github/HirunaD/LangChain/blob/main/03_Document_Loaders.ipynb\" target=\"_parent\"><img src=\"https://colab.research.google.com/assets/colab-badge.svg\" alt=\"Open In Colab\"/></a>"
      ]
    },
    {
      "cell_type": "code",
      "execution_count": 1,
      "metadata": {
        "colab": {
          "base_uri": "https://localhost:8080/"
        },
        "id": "CpjpYyQmt1MQ",
        "outputId": "6e89fbc6-9f1f-443b-ff3d-e178cd6df9b9"
      },
      "outputs": [
        {
          "output_type": "stream",
          "name": "stdout",
          "text": [
            "\u001b[2K   \u001b[90m━━━━━━━━━━━━━━━━━━━━━━━━━━━━━━━━━━━━━━━━\u001b[0m \u001b[32m2.5/2.5 MB\u001b[0m \u001b[31m23.0 MB/s\u001b[0m eta \u001b[36m0:00:00\u001b[0m\n",
            "\u001b[2K   \u001b[90m━━━━━━━━━━━━━━━━━━━━━━━━━━━━━━━━━━━━━━━━\u001b[0m \u001b[32m44.4/44.4 kB\u001b[0m \u001b[31m2.1 MB/s\u001b[0m eta \u001b[36m0:00:00\u001b[0m\n",
            "\u001b[2K   \u001b[90m━━━━━━━━━━━━━━━━━━━━━━━━━━━━━━━━━━━━━━━━\u001b[0m \u001b[32m50.9/50.9 kB\u001b[0m \u001b[31m2.0 MB/s\u001b[0m eta \u001b[36m0:00:00\u001b[0m\n",
            "\u001b[?25h"
          ]
        }
      ],
      "source": [
        "# Install the necessary packages\n",
        "!pip install langchain -qU\n",
        "!pip install langchain-community -qU"
      ]
    },
    {
      "cell_type": "markdown",
      "source": [
        "**Loading Text Files**"
      ],
      "metadata": {
        "id": "k5Mb7267ux0H"
      }
    },
    {
      "cell_type": "code",
      "source": [
        "from langchain_community.document_loaders import TextLoader\n",
        "\n",
        "# Initialize the TextLoader with the path to the text file\n",
        "loader = TextLoader(\"/content/data/example_txt_file.txt\")\n",
        "\n",
        "# Load the text data\n",
        "txt_data = loader.load()\n",
        "\n",
        "print(txt_data)"
      ],
      "metadata": {
        "colab": {
          "base_uri": "https://localhost:8080/"
        },
        "id": "hPoX9sfeu0H9",
        "outputId": "5d80e125-e538-4f9c-ec5c-ba77d5800e3c"
      },
      "execution_count": 4,
      "outputs": [
        {
          "output_type": "stream",
          "name": "stdout",
          "text": [
            "[Document(metadata={'source': '/content/data/example_txt_file.txt'}, page_content=\"Sri Lanka's national cricket team achieved a historic milestone by winning the ICC Cricket World Cup in 1996. \\nThe team is known for producing cricket legends like Muttiah Muralitharan, the highest wicket-taker in Test cricket history. \\nKumar Sangakkara and Mahela Jayawardene are celebrated for their prolific batting partnerships. \\nSanath Jayasuriya revolutionized one-day cricket with his explosive batting style. \\nThe Galle International Stadium, with its stunning backdrop of the Galle Fort, is one of the world's most picturesque cricket venues. \\nSri Lanka won the ICC T20 World Cup in 2014, demonstrating their prowess in the shortest format of the game. \\nLasith Malinga, famous for his unique bowling action and lethal yorkers, has been a key player in their T20 success. \\nCricket is deeply embedded in Sri Lankan culture, uniting people from all walks of life during major tournaments.\")]\n"
          ]
        }
      ]
    },
    {
      "cell_type": "code",
      "source": [
        "txt_data[0].page_content"
      ],
      "metadata": {
        "colab": {
          "base_uri": "https://localhost:8080/",
          "height": 209
        },
        "id": "Us71mPkpw_MF",
        "outputId": "a788e2d5-81be-43d2-df33-0e7c28a223cc"
      },
      "execution_count": 5,
      "outputs": [
        {
          "output_type": "execute_result",
          "data": {
            "text/plain": [
              "\"Sri Lanka's national cricket team achieved a historic milestone by winning the ICC Cricket World Cup in 1996. \\nThe team is known for producing cricket legends like Muttiah Muralitharan, the highest wicket-taker in Test cricket history. \\nKumar Sangakkara and Mahela Jayawardene are celebrated for their prolific batting partnerships. \\nSanath Jayasuriya revolutionized one-day cricket with his explosive batting style. \\nThe Galle International Stadium, with its stunning backdrop of the Galle Fort, is one of the world's most picturesque cricket venues. \\nSri Lanka won the ICC T20 World Cup in 2014, demonstrating their prowess in the shortest format of the game. \\nLasith Malinga, famous for his unique bowling action and lethal yorkers, has been a key player in their T20 success. \\nCricket is deeply embedded in Sri Lankan culture, uniting people from all walks of life during major tournaments.\""
            ],
            "application/vnd.google.colaboratory.intrinsic+json": {
              "type": "string"
            }
          },
          "metadata": {},
          "execution_count": 5
        }
      ]
    },
    {
      "cell_type": "code",
      "source": [
        "txt_data[0].metadata"
      ],
      "metadata": {
        "colab": {
          "base_uri": "https://localhost:8080/"
        },
        "id": "U69Lf-JKxEhF",
        "outputId": "e829f9ff-b43a-4b0c-a643-dfe0be82fd4d"
      },
      "execution_count": 6,
      "outputs": [
        {
          "output_type": "execute_result",
          "data": {
            "text/plain": [
              "{'source': '/content/data/example_txt_file.txt'}"
            ]
          },
          "metadata": {},
          "execution_count": 6
        }
      ]
    },
    {
      "cell_type": "markdown",
      "source": [
        "**Loading Text Files from a Directory**"
      ],
      "metadata": {
        "id": "_0uL3SslxWo9"
      }
    },
    {
      "cell_type": "code",
      "source": [
        "!pip install unstructured -qU"
      ],
      "metadata": {
        "colab": {
          "base_uri": "https://localhost:8080/"
        },
        "id": "dzdVW_p0xX7C",
        "outputId": "47c037ee-4549-4e90-a98c-dd3f6360e800"
      },
      "execution_count": 7,
      "outputs": [
        {
          "output_type": "stream",
          "name": "stdout",
          "text": [
            "\u001b[?25l     \u001b[90m━━━━━━━━━━━━━━━━━━━━━━━━━━━━━━━━━━━━━━━━\u001b[0m \u001b[32m0.0/981.5 kB\u001b[0m \u001b[31m?\u001b[0m eta \u001b[36m-:--:--\u001b[0m\r\u001b[2K     \u001b[91m━━━━━━━━━━━━━━━━\u001b[0m\u001b[90m╺\u001b[0m\u001b[90m━━━━━━━━━━━━━━━━━━━━━\u001b[0m \u001b[32m419.8/981.5 kB\u001b[0m \u001b[31m12.3 MB/s\u001b[0m eta \u001b[36m0:00:01\u001b[0m\r\u001b[2K     \u001b[90m━━━━━━━━━━━━━━━━━━━━━━━━━━━━━━━━━━━━━━\u001b[0m \u001b[32m981.5/981.5 kB\u001b[0m \u001b[31m15.3 MB/s\u001b[0m eta \u001b[36m0:00:00\u001b[0m\n",
            "\u001b[?25h  Preparing metadata (setup.py) ... \u001b[?25l\u001b[?25hdone\n",
            "\u001b[2K   \u001b[90m━━━━━━━━━━━━━━━━━━━━━━━━━━━━━━━━━━━━━━━━\u001b[0m \u001b[32m1.8/1.8 MB\u001b[0m \u001b[31m42.5 MB/s\u001b[0m eta \u001b[36m0:00:00\u001b[0m\n",
            "\u001b[2K   \u001b[90m━━━━━━━━━━━━━━━━━━━━━━━━━━━━━━━━━━━━━━━━\u001b[0m \u001b[32m590.6/590.6 kB\u001b[0m \u001b[31m31.9 MB/s\u001b[0m eta \u001b[36m0:00:00\u001b[0m\n",
            "\u001b[2K   \u001b[90m━━━━━━━━━━━━━━━━━━━━━━━━━━━━━━━━━━━━━━━━\u001b[0m \u001b[32m167.6/167.6 kB\u001b[0m \u001b[31m11.8 MB/s\u001b[0m eta \u001b[36m0:00:00\u001b[0m\n",
            "\u001b[2K   \u001b[90m━━━━━━━━━━━━━━━━━━━━━━━━━━━━━━━━━━━━━━━━\u001b[0m \u001b[32m3.1/3.1 MB\u001b[0m \u001b[31m66.9 MB/s\u001b[0m eta \u001b[36m0:00:00\u001b[0m\n",
            "\u001b[2K   \u001b[90m━━━━━━━━━━━━━━━━━━━━━━━━━━━━━━━━━━━━━━━━\u001b[0m \u001b[32m195.8/195.8 kB\u001b[0m \u001b[31m12.6 MB/s\u001b[0m eta \u001b[36m0:00:00\u001b[0m\n",
            "\u001b[2K   \u001b[90m━━━━━━━━━━━━━━━━━━━━━━━━━━━━━━━━━━━━━━━━\u001b[0m \u001b[32m304.2/304.2 kB\u001b[0m \u001b[31m18.2 MB/s\u001b[0m eta \u001b[36m0:00:00\u001b[0m\n",
            "\u001b[2K   \u001b[90m━━━━━━━━━━━━━━━━━━━━━━━━━━━━━━━━━━━━━━━━\u001b[0m \u001b[32m114.6/114.6 kB\u001b[0m \u001b[31m7.8 MB/s\u001b[0m eta \u001b[36m0:00:00\u001b[0m\n",
            "\u001b[?25h  Building wheel for langdetect (setup.py) ... \u001b[?25l\u001b[?25hdone\n"
          ]
        }
      ]
    },
    {
      "cell_type": "code",
      "source": [
        "from langchain_community.document_loaders import DirectoryLoader\n",
        "\n",
        "# Initialize the DirectoryLoader with the path to the directory and a glob pattern for text files\n",
        "loader = DirectoryLoader(\"/content/data/txt_folder\", glob=\"**/*.txt\")\n",
        "\n",
        "# Load the text data from the directory\n",
        "dataset = loader.load()\n",
        "\n",
        "for data in dataset:\n",
        "  print(\"------------------------\")\n",
        "  print(data.page_content)\n",
        "  print(data.metadata)"
      ],
      "metadata": {
        "colab": {
          "base_uri": "https://localhost:8080/"
        },
        "id": "T45b9quexm_L",
        "outputId": "fe9ec6c2-2c7e-4682-82a8-32ecf7e7e7de"
      },
      "execution_count": 9,
      "outputs": [
        {
          "output_type": "stream",
          "name": "stdout",
          "text": [
            "------------------------\n",
            "The T20 World Cup 2024 is in full swing, bringing excitement and drama to cricket fans worldwide.\n",
            "\n",
            "India's team, captained by Rohit Sharma, is preparing for a crucial match against Ireland, with standout player Jasprit Bumrah expected to play a pivotal role in their campaign.\n",
            "\n",
            "The tournament has already seen controversy, particularly concerning the pitch conditions at Nassau County International Cricket Stadium in New York, which came under fire after a low-scoring game between Sri Lanka and South Africa.\n",
            "{'source': '/content/data/txt_folder/cricket_news.txt'}\n",
            "------------------------\n",
            "As election season heats up, the latest developments reveal a highly competitive atmosphere across several key races.\n",
            "\n",
            "The presidential election has seen intense campaigning from all major candidates, with recent polls indicating a tight race.\n",
            "\n",
            "Incumbent President Jane Doe is seeking re-election on a platform of economic stability and healthcare reform, while her main rival, Senator John Smith, focuses on education and climate change initiatives.\n",
            "{'source': '/content/data/txt_folder/election_news.txt'}\n",
            "------------------------\n",
            "The AI revolution continues to transform industries and reshape the global economy.\n",
            "\n",
            "Significant advancements in artificial intelligence have led to breakthroughs in healthcare, with AI-driven diagnostics improving patient outcomes and reducing costs.\n",
            "\n",
            "Autonomous systems are becoming increasingly prevalent in logistics and transportation, enhancing efficiency and safety.\n",
            "{'source': '/content/data/txt_folder/ai_news.txt'}\n",
            "------------------------\n",
            "The world of football is buzzing with excitement as major tournaments and league matches continue to captivate fans globally.\n",
            "\n",
            "In the UEFA Champions League, the semi-final matchups have been set, with defending champions Real Madrid set to face Manchester City, while Bayern Munich will take on Paris Saint-Germain.\n",
            "\n",
            "Both ties promise thrilling encounters, featuring some of the best talents in world football\n",
            "{'source': '/content/data/txt_folder/football_news.txt'}\n"
          ]
        }
      ]
    },
    {
      "cell_type": "markdown",
      "source": [
        "**Loading PDF Files**"
      ],
      "metadata": {
        "id": "kcjgwbmBx-hu"
      }
    },
    {
      "cell_type": "code",
      "source": [
        "!pip install pypdf -qU"
      ],
      "metadata": {
        "id": "omGcTjvlyARV"
      },
      "execution_count": 10,
      "outputs": []
    },
    {
      "cell_type": "code",
      "source": [
        "from langchain_community.document_loaders import PyPDFLoader\n",
        "\n",
        "# Initialize the PyPDFLoader with the path to the PDF file\n",
        "loader = PyPDFLoader(\"/content/data/example_pdf_file.pdf\")\n",
        "\n",
        "# Load the PDF data\n",
        "pdf_data = loader.load()\n",
        "\n",
        "print(pdf_data)"
      ],
      "metadata": {
        "colab": {
          "base_uri": "https://localhost:8080/"
        },
        "id": "kEFktiTzyHrV",
        "outputId": "4bb9a3c9-a440-44f7-91ac-ff0b77a64709"
      },
      "execution_count": 11,
      "outputs": [
        {
          "output_type": "stream",
          "name": "stdout",
          "text": [
            "[Document(metadata={'producer': 'Microsoft® Word for Microsoft 365', 'creator': 'Microsoft® Word for Microsoft 365', 'creationdate': '2024-06-17T22:17:35+05:30', 'author': 'Dinesh Piyasamara', 'moddate': '2024-06-17T22:17:35+05:30', 'source': '/content/data/example_pdf_file.pdf', 'total_pages': 1, 'page': 0, 'page_label': '1'}, page_content=\"Sri Lanka's national cricket team achieved a historic milestone by winning the ICC Cricket World \\nCup in 1996.  \\nThe team is known for producing cricket legends like Muttiah Muralitharan, the highest wicket-taker \\nin Test cricket history.  \\nKumar Sangakkara and Mahela Jayawardene are celebrated for their prolific batting partnerships.  \\nSanath Jayasuriya revolutionized one-day cricket with his explosive batting style.  \\nThe Galle International Stadium, with its stunning backdrop of the Galle Fort, is one of the world's \\nmost picturesque cricket venues.  \\nSri Lanka won the ICC T20 World Cup in 2014, demonstrating their prowess in the shortest format of \\nthe game.  \\nLasith Malinga, famous for his unique bowling action and lethal yorkers, has been a key player in \\ntheir T20 success.  \\nCricket is deeply embedded in Sri Lankan culture, uniting people from all walks of life during major \\ntournaments.\")]\n"
          ]
        }
      ]
    },
    {
      "cell_type": "code",
      "source": [
        "pdf_data[0].page_content"
      ],
      "metadata": {
        "colab": {
          "base_uri": "https://localhost:8080/",
          "height": 209
        },
        "id": "fPTtvJLcyZWN",
        "outputId": "2e72dc5f-9309-49dd-8f8f-ebc3ff90c46e"
      },
      "execution_count": 12,
      "outputs": [
        {
          "output_type": "execute_result",
          "data": {
            "text/plain": [
              "\"Sri Lanka's national cricket team achieved a historic milestone by winning the ICC Cricket World \\nCup in 1996.  \\nThe team is known for producing cricket legends like Muttiah Muralitharan, the highest wicket-taker \\nin Test cricket history.  \\nKumar Sangakkara and Mahela Jayawardene are celebrated for their prolific batting partnerships.  \\nSanath Jayasuriya revolutionized one-day cricket with his explosive batting style.  \\nThe Galle International Stadium, with its stunning backdrop of the Galle Fort, is one of the world's \\nmost picturesque cricket venues.  \\nSri Lanka won the ICC T20 World Cup in 2014, demonstrating their prowess in the shortest format of \\nthe game.  \\nLasith Malinga, famous for his unique bowling action and lethal yorkers, has been a key player in \\ntheir T20 success.  \\nCricket is deeply embedded in Sri Lankan culture, uniting people from all walks of life during major \\ntournaments.\""
            ],
            "application/vnd.google.colaboratory.intrinsic+json": {
              "type": "string"
            }
          },
          "metadata": {},
          "execution_count": 12
        }
      ]
    },
    {
      "cell_type": "code",
      "source": [
        "pdf_data[0].metadata"
      ],
      "metadata": {
        "colab": {
          "base_uri": "https://localhost:8080/"
        },
        "id": "tvCnN2Hcyauk",
        "outputId": "103acfc6-1f72-49a4-db62-31badd0e1389"
      },
      "execution_count": 13,
      "outputs": [
        {
          "output_type": "execute_result",
          "data": {
            "text/plain": [
              "{'producer': 'Microsoft® Word for Microsoft 365',\n",
              " 'creator': 'Microsoft® Word for Microsoft 365',\n",
              " 'creationdate': '2024-06-17T22:17:35+05:30',\n",
              " 'author': 'Dinesh Piyasamara',\n",
              " 'moddate': '2024-06-17T22:17:35+05:30',\n",
              " 'source': '/content/data/example_pdf_file.pdf',\n",
              " 'total_pages': 1,\n",
              " 'page': 0,\n",
              " 'page_label': '1'}"
            ]
          },
          "metadata": {},
          "execution_count": 13
        }
      ]
    },
    {
      "cell_type": "markdown",
      "source": [
        "**Loading PDF Files from a Directory**"
      ],
      "metadata": {
        "id": "cXVZIQFdylSJ"
      }
    },
    {
      "cell_type": "code",
      "source": [
        "from langchain_community.document_loaders import PyPDFDirectoryLoader\n",
        "\n",
        "# Initialize the PyPDFDirectoryLoader with the path to the directory containing PDF files\n",
        "loader = PyPDFDirectoryLoader(\"/content/data/pdf_folder\")\n",
        "\n",
        "# Load the PDF data from the directory\n",
        "dataset = loader.load()\n",
        "\n",
        "for data in dataset:\n",
        "  print(\"------------------------\")\n",
        "  print(data.page_content)\n",
        "  print(data.metadata)"
      ],
      "metadata": {
        "colab": {
          "base_uri": "https://localhost:8080/"
        },
        "id": "Ac5iPjsyynM-",
        "outputId": "ceb9d3eb-14bb-4cf5-b4ad-ea41793f8ae2"
      },
      "execution_count": 16,
      "outputs": [
        {
          "output_type": "stream",
          "name": "stdout",
          "text": [
            "------------------------\n",
            "The world of football is buzzing with excitement as major tournaments and league matches \n",
            "continue to captivate fans globally. \n",
            "In the UEFA Champions League, the semi-final matchups have been set, with defending champions \n",
            "Real Madrid set to face Manchester City, while Bayern Munich will take on Paris Saint-Germain. \n",
            "Both ties promise thrilling encounters, featuring some of the best talents in world football\n",
            "{'producer': 'Microsoft® Word for Microsoft 365', 'creator': 'Microsoft® Word for Microsoft 365', 'creationdate': '2024-06-17T22:37:50+05:30', 'author': 'Dinesh Piyasamara', 'moddate': '2024-06-17T22:37:50+05:30', 'source': '/content/data/pdf_folder/football_news.pdf', 'total_pages': 1, 'page': 0, 'page_label': '1'}\n",
            "------------------------\n",
            "As election season heats up, the latest developments reveal a highly competitive atmosphere \n",
            "across several key races. \n",
            "The presidential election has seen intense campaigning from all major candidates, with recent \n",
            "polls indicating a tight race. \n",
            "Incumbent President Jane Doe is seeking re-election on a platform of economic stability and \n",
            "healthcare reform, while her main rival, Senator John Smith, focuses on education and climate \n",
            "change initiatives.\n",
            "{'producer': 'Microsoft® Word for Microsoft 365', 'creator': 'Microsoft® Word for Microsoft 365', 'creationdate': '2024-06-17T22:37:07+05:30', 'author': 'Dinesh Piyasamara', 'moddate': '2024-06-17T22:37:07+05:30', 'source': '/content/data/pdf_folder/election_news.pdf', 'total_pages': 1, 'page': 0, 'page_label': '1'}\n",
            "------------------------\n",
            "The T20 World Cup 2024 is in full swing, bringing excitement and drama to cricket fans worldwide. \n",
            "India's team, captained by Rohit Sharma, is preparing for a crucial match against Ireland, with \n",
            "standout player Jasprit Bumrah expected to play a pivotal role in their campaign. \n",
            "The tournament has already seen controversy, particularly concerning the pitch conditions at \n",
            "Nassau County International Cricket Stadium in New York, which came under fire after a low-\n",
            "scoring game between Sri Lanka and South Africa.\n",
            "{'producer': 'Microsoft® Word for Microsoft 365', 'creator': 'Microsoft® Word for Microsoft 365', 'creationdate': '2024-06-17T22:36:30+05:30', 'author': 'Dinesh Piyasamara', 'moddate': '2024-06-17T22:36:30+05:30', 'source': '/content/data/pdf_folder/cricket_news.pdf', 'total_pages': 1, 'page': 0, 'page_label': '1'}\n",
            "------------------------\n",
            "The AI revolution continues to transform industries and reshape the global economy. \n",
            "Significant advancements in artificial intelligence have led to breakthroughs in healthcare, with AI-\n",
            "driven diagnostics improving patient outcomes and reducing costs. \n",
            "Autonomous systems are becoming increasingly prevalent in logistics and transportation, \n",
            "enhancing efficiency and safety.\n",
            "{'producer': 'Microsoft® Word for Microsoft 365', 'creator': 'Microsoft® Word for Microsoft 365', 'creationdate': '2024-06-17T22:35:41+05:30', 'author': 'Dinesh Piyasamara', 'moddate': '2024-06-17T22:35:41+05:30', 'source': '/content/data/pdf_folder/ai_news.pdf', 'total_pages': 1, 'page': 0, 'page_label': '1'}\n"
          ]
        }
      ]
    },
    {
      "cell_type": "markdown",
      "source": [
        "**Loading CSV Files**"
      ],
      "metadata": {
        "id": "iMoTyd6SzIn9"
      }
    },
    {
      "cell_type": "code",
      "source": [
        "from langchain_community.document_loaders import CSVLoader\n",
        "\n",
        "# Initialize the CSVLoader with the path to the CSV file\n",
        "loader = CSVLoader(\"/content/data/example_csv_file.csv\")\n",
        "\n",
        "# Load the CSV data\n",
        "csv_data = loader.load()\n",
        "\n",
        "print(csv_data)"
      ],
      "metadata": {
        "colab": {
          "base_uri": "https://localhost:8080/"
        },
        "id": "XavM4xR4zKfQ",
        "outputId": "beb118df-64d7-4af6-ebb2-01d78dae2cec"
      },
      "execution_count": 17,
      "outputs": [
        {
          "output_type": "stream",
          "name": "stdout",
          "text": [
            "[Document(metadata={'source': '/content/data/example_csv_file.csv', 'row': 0}, page_content='\\ufeffname: kamal\\ncity: colombo\\nresult: pass'), Document(metadata={'source': '/content/data/example_csv_file.csv', 'row': 1}, page_content='\\ufeffname: saman\\ncity: kandy\\nresult: pass'), Document(metadata={'source': '/content/data/example_csv_file.csv', 'row': 2}, page_content='\\ufeffname: pawan\\ncity: jaffna\\nresult: fail'), Document(metadata={'source': '/content/data/example_csv_file.csv', 'row': 3}, page_content='\\ufeffname: nimal\\ncity: puttalam\\nresult: fail'), Document(metadata={'source': '/content/data/example_csv_file.csv', 'row': 4}, page_content='\\ufeffname: sunil\\ncity: anuradapura\\nresult: pass')]\n"
          ]
        }
      ]
    },
    {
      "cell_type": "code",
      "source": [
        "csv_data[0]"
      ],
      "metadata": {
        "colab": {
          "base_uri": "https://localhost:8080/"
        },
        "id": "UAuIDe3JzUHM",
        "outputId": "74739c3f-94b6-4df1-ce5b-c857b1230dce"
      },
      "execution_count": 18,
      "outputs": [
        {
          "output_type": "execute_result",
          "data": {
            "text/plain": [
              "Document(metadata={'source': '/content/data/example_csv_file.csv', 'row': 0}, page_content='\\ufeffname: kamal\\ncity: colombo\\nresult: pass')"
            ]
          },
          "metadata": {},
          "execution_count": 18
        }
      ]
    },
    {
      "cell_type": "code",
      "source": [
        "csv_data[0].page_content"
      ],
      "metadata": {
        "colab": {
          "base_uri": "https://localhost:8080/",
          "height": 36
        },
        "id": "SQv53hu8zX90",
        "outputId": "8dbb03e8-228e-4209-93ea-502f24510ce6"
      },
      "execution_count": 19,
      "outputs": [
        {
          "output_type": "execute_result",
          "data": {
            "text/plain": [
              "'\\ufeffname: kamal\\ncity: colombo\\nresult: pass'"
            ],
            "application/vnd.google.colaboratory.intrinsic+json": {
              "type": "string"
            }
          },
          "metadata": {},
          "execution_count": 19
        }
      ]
    },
    {
      "cell_type": "markdown",
      "source": [
        "**Displaying HTML Data**"
      ],
      "metadata": {
        "id": "PtDpF3upzcV8"
      }
    },
    {
      "cell_type": "code",
      "source": [
        "from langchain_community.document_loaders import BSHTMLLoader\n",
        "\n",
        "# Initialize the BSHTMLLoader with the path to the HTML file\n",
        "loader = BSHTMLLoader(\"/content/data/example_html_file.html\")\n",
        "\n",
        "# Load the HTML data\n",
        "html_data = loader.load()\n",
        "\n",
        "print(html_data)"
      ],
      "metadata": {
        "colab": {
          "base_uri": "https://localhost:8080/"
        },
        "id": "JhknPL4Dz7X5",
        "outputId": "0087badb-9823-489b-e078-b0a36416ca6e"
      },
      "execution_count": 21,
      "outputs": [
        {
          "output_type": "stream",
          "name": "stdout",
          "text": [
            "[Document(metadata={'source': '/content/data/example_html_file.html', 'title': 'Sri Lanka Cricket'}, page_content=\"\\n\\n\\n\\nSri Lanka Cricket\\n\\n\\n\\n\\nSri Lanka Cricket\\nSri Lanka's national cricket team achieved a historic milestone by winning the ICC Cricket World Cup in 1996.\\nThe team is known for producing cricket legends like Muttiah Muralitharan, the highest wicket-taker in Test cricket history.\\nKumar Sangakkara and Mahela Jayawardene are celebrated for their prolific batting partnerships.\\nSanath Jayasuriya revolutionized one-day cricket with his explosive batting style.\\nThe Galle International Stadium, with its stunning backdrop of the Galle Fort, is one of the world's most picturesque cricket venues.\\nSri Lanka won the ICC T20 World Cup in 2014, demonstrating their prowess in the shortest format of the game.\\nLasith Malinga, famous for his unique bowling action and lethal yorkers, has been a key player in their T20 success.\\nCricket is deeply embedded in Sri Lankan culture, uniting people from all walks of life during major tournaments.\\n\\n\\n\\n\")]\n"
          ]
        }
      ]
    },
    {
      "cell_type": "code",
      "source": [
        "html_data[0].page_content"
      ],
      "metadata": {
        "colab": {
          "base_uri": "https://localhost:8080/",
          "height": 226
        },
        "id": "j29RjVbQ0FB4",
        "outputId": "fe61f13c-781c-4acd-d989-597ddea96d71"
      },
      "execution_count": 24,
      "outputs": [
        {
          "output_type": "execute_result",
          "data": {
            "text/plain": [
              "\"\\n\\n\\n\\nSri Lanka Cricket\\n\\n\\n\\n\\nSri Lanka Cricket\\nSri Lanka's national cricket team achieved a historic milestone by winning the ICC Cricket World Cup in 1996.\\nThe team is known for producing cricket legends like Muttiah Muralitharan, the highest wicket-taker in Test cricket history.\\nKumar Sangakkara and Mahela Jayawardene are celebrated for their prolific batting partnerships.\\nSanath Jayasuriya revolutionized one-day cricket with his explosive batting style.\\nThe Galle International Stadium, with its stunning backdrop of the Galle Fort, is one of the world's most picturesque cricket venues.\\nSri Lanka won the ICC T20 World Cup in 2014, demonstrating their prowess in the shortest format of the game.\\nLasith Malinga, famous for his unique bowling action and lethal yorkers, has been a key player in their T20 success.\\nCricket is deeply embedded in Sri Lankan culture, uniting people from all walks of life during major tournaments.\\n\\n\\n\\n\""
            ],
            "application/vnd.google.colaboratory.intrinsic+json": {
              "type": "string"
            }
          },
          "metadata": {},
          "execution_count": 24
        }
      ]
    },
    {
      "cell_type": "code",
      "source": [
        "html_data[0].metadata"
      ],
      "metadata": {
        "colab": {
          "base_uri": "https://localhost:8080/"
        },
        "id": "jMy3UPJo0NjZ",
        "outputId": "4f288dd5-423a-4920-ef36-ad0082dd9656"
      },
      "execution_count": 25,
      "outputs": [
        {
          "output_type": "execute_result",
          "data": {
            "text/plain": [
              "{'source': '/content/data/example_html_file.html',\n",
              " 'title': 'Sri Lanka Cricket'}"
            ]
          },
          "metadata": {},
          "execution_count": 25
        }
      ]
    }
  ]
}