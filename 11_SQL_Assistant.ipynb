{
  "nbformat": 4,
  "nbformat_minor": 0,
  "metadata": {
    "colab": {
      "provenance": [],
      "toc_visible": true,
      "authorship_tag": "ABX9TyMieQyRIfDy0viesvfPlu7k",
      "include_colab_link": true
    },
    "kernelspec": {
      "name": "python3",
      "display_name": "Python 3"
    },
    "language_info": {
      "name": "python"
    }
  },
  "cells": [
    {
      "cell_type": "markdown",
      "metadata": {
        "id": "view-in-github",
        "colab_type": "text"
      },
      "source": [
        "<a href=\"https://colab.research.google.com/github/HirunaD/LangChain/blob/main/11_SQL_Assistant.ipynb\" target=\"_parent\"><img src=\"https://colab.research.google.com/assets/colab-badge.svg\" alt=\"Open In Colab\"/></a>"
      ]
    },
    {
      "cell_type": "markdown",
      "source": [
        "**Install Required Packages**"
      ],
      "metadata": {
        "id": "NyZ8_GLvU2SW"
      }
    },
    {
      "cell_type": "code",
      "execution_count": 1,
      "metadata": {
        "colab": {
          "base_uri": "https://localhost:8080/"
        },
        "id": "AZC5G5asUbnB",
        "outputId": "5c3a9362-1b2d-41b5-fa0f-78e6575c891d"
      },
      "outputs": [
        {
          "output_type": "stream",
          "name": "stdout",
          "text": [
            "\u001b[2K   \u001b[90m━━━━━━━━━━━━━━━━━━━━━━━━━━━━━━━━━━━━━━━━\u001b[0m \u001b[32m70.6/70.6 kB\u001b[0m \u001b[31m1.5 MB/s\u001b[0m eta \u001b[36m0:00:00\u001b[0m\n",
            "\u001b[2K   \u001b[90m━━━━━━━━━━━━━━━━━━━━━━━━━━━━━━━━━━━━━━━━\u001b[0m \u001b[32m2.5/2.5 MB\u001b[0m \u001b[31m25.1 MB/s\u001b[0m eta \u001b[36m0:00:00\u001b[0m\n",
            "\u001b[2K   \u001b[90m━━━━━━━━━━━━━━━━━━━━━━━━━━━━━━━━━━━━━━━━\u001b[0m \u001b[32m45.2/45.2 kB\u001b[0m \u001b[31m4.2 MB/s\u001b[0m eta \u001b[36m0:00:00\u001b[0m\n",
            "\u001b[2K   \u001b[90m━━━━━━━━━━━━━━━━━━━━━━━━━━━━━━━━━━━━━━━━\u001b[0m \u001b[32m50.9/50.9 kB\u001b[0m \u001b[31m3.8 MB/s\u001b[0m eta \u001b[36m0:00:00\u001b[0m\n",
            "\u001b[?25h"
          ]
        }
      ],
      "source": [
        "!pip install langchain_openai -q\n",
        "!pip install langchain_community -q\n",
        "!pip install langchain -q"
      ]
    },
    {
      "cell_type": "markdown",
      "source": [
        "**Create SQLite Database and Tables**"
      ],
      "metadata": {
        "id": "dVpIzTWXVIFi"
      }
    },
    {
      "cell_type": "code",
      "source": [
        "import sqlite3"
      ],
      "metadata": {
        "id": "e3hiZ3KhU7Bs"
      },
      "execution_count": 2,
      "outputs": []
    },
    {
      "cell_type": "code",
      "source": [
        "connection = sqlite3.connect(\"school.db\")"
      ],
      "metadata": {
        "id": "NtoFjBCaVMdC"
      },
      "execution_count": 3,
      "outputs": []
    },
    {
      "cell_type": "code",
      "source": [
        "cursor = connection.cursor()"
      ],
      "metadata": {
        "id": "-U9ff-0kVOng"
      },
      "execution_count": 4,
      "outputs": []
    },
    {
      "cell_type": "code",
      "source": [
        "cursor.execute(\"\"\"\n",
        "CREATE TABLE IF NOT EXISTS teachers (\n",
        "    teacher_id INTEGER PRIMARY KEY AUTOINCREMENT,\n",
        "    name TEXT NOT NULL,\n",
        "    age INTEGER NOT NULL\n",
        ")\n",
        "\"\"\")\n",
        "\n",
        "cursor.execute(\"\"\"\n",
        "CREATE TABLE IF NOT EXISTS subjects (\n",
        "    subject_id INTEGER PRIMARY KEY AUTOINCREMENT,\n",
        "    subject_name TEXT NOT NULL\n",
        ")\n",
        "\"\"\")\n",
        "\n",
        "cursor.execute(\"\"\"\n",
        "CREATE TABLE IF NOT EXISTS teaches (\n",
        "    id INTEGER PRIMARY KEY AUTOINCREMENT,\n",
        "    teacher_id INTEGER,\n",
        "    subject_id INTEGER,\n",
        "    FOREIGN KEY (teacher_id) REFERENCES teachers(teacher_id),\n",
        "    FOREIGN KEY (subject_id) REFERENCES subjects(subject_id)\n",
        ")\n",
        "\"\"\")\n",
        "\n",
        "connection.commit()"
      ],
      "metadata": {
        "id": "kg8zMvn-VQVI"
      },
      "execution_count": 5,
      "outputs": []
    },
    {
      "cell_type": "markdown",
      "source": [
        "**Insert Sample Data into Tables**"
      ],
      "metadata": {
        "id": "1mRcfR4KVaBp"
      }
    },
    {
      "cell_type": "code",
      "source": [
        "teachers = [\n",
        "    (\"Kamal\", 42),\n",
        "    (\"Saman\", 29),\n",
        "    (\"Pawan\", 34)\n",
        "]\n",
        "cursor.executemany(\"INSERT INTO teachers (name, age) VALUES (?, ?)\", teachers)\n",
        "\n",
        "subjects = [\n",
        "    (\"Mathematics\",),\n",
        "    (\"Science\",),\n",
        "    (\"History\",),\n",
        "    (\"English\",)\n",
        "]\n",
        "cursor.executemany(\"INSERT INTO subjects (subject_name) VALUES (?)\", subjects)\n",
        "\n",
        "teaches = [\n",
        "    (1, 1),  # Kamal teaches Mathematics\n",
        "    (1, 2),  # Kamal teaches Science\n",
        "    (2, 3),  # Saman teaches History\n",
        "    (3, 4),  # Pawan teaches English\n",
        "]\n",
        "cursor.executemany(\"INSERT INTO teaches (teacher_id, subject_id) VALUES (?, ?)\", teaches)\n",
        "\n",
        "connection.commit()"
      ],
      "metadata": {
        "id": "YDq0AhuNVS0N"
      },
      "execution_count": 6,
      "outputs": []
    },
    {
      "cell_type": "code",
      "source": [
        "cursor.execute(\"SELECT * FROM teachers\")\n",
        "teachers = cursor.fetchall()\n",
        "print(teachers)"
      ],
      "metadata": {
        "colab": {
          "base_uri": "https://localhost:8080/"
        },
        "id": "K0vVBQzfVep2",
        "outputId": "a5abb321-2356-4b38-9014-212ff2e145fe"
      },
      "execution_count": 7,
      "outputs": [
        {
          "output_type": "stream",
          "name": "stdout",
          "text": [
            "[(1, 'Kamal', 42), (2, 'Saman', 29), (3, 'Pawan', 34)]\n"
          ]
        }
      ]
    },
    {
      "cell_type": "code",
      "source": [
        "cursor.execute(\"\"\"SELECT t.name\n",
        "FROM teachers t\n",
        "JOIN teaches te ON t.teacher_id = te.teacher_id\n",
        "JOIN subjects s ON te.subject_id = s.subject_id\n",
        "WHERE s.subject_name = 'Mathematics';\"\"\")\n",
        "teachers = cursor.fetchall()\n",
        "print(teachers)"
      ],
      "metadata": {
        "colab": {
          "base_uri": "https://localhost:8080/"
        },
        "id": "7nQmnDRBVo_r",
        "outputId": "88f62c43-1c74-421c-8037-f09ef7d36e15"
      },
      "execution_count": 8,
      "outputs": [
        {
          "output_type": "stream",
          "name": "stdout",
          "text": [
            "[('Kamal',)]\n"
          ]
        }
      ]
    },
    {
      "cell_type": "markdown",
      "source": [
        "**Initialize LangChain SQL Database**"
      ],
      "metadata": {
        "id": "ocq2WInwV3kn"
      }
    },
    {
      "cell_type": "code",
      "source": [
        "from google.colab import userdata\n",
        "import os\n",
        "\n",
        "os.environ[\"OPENAI_API_KEY\"] = userdata.get('OPENAI_API_KEY')"
      ],
      "metadata": {
        "id": "goEN4wURV4cV"
      },
      "execution_count": 10,
      "outputs": []
    },
    {
      "cell_type": "code",
      "source": [
        "from langchain_community.utilities.sql_database import SQLDatabase"
      ],
      "metadata": {
        "id": "Q8xIqLDVWB9C"
      },
      "execution_count": 11,
      "outputs": []
    },
    {
      "cell_type": "code",
      "source": [
        "db = SQLDatabase.from_uri(f\"sqlite:///school.db\")"
      ],
      "metadata": {
        "id": "XtzYp08tWI_s"
      },
      "execution_count": 12,
      "outputs": []
    },
    {
      "cell_type": "code",
      "source": [
        "print(db.get_usable_table_names())"
      ],
      "metadata": {
        "colab": {
          "base_uri": "https://localhost:8080/"
        },
        "id": "wJ7L6LC5WOCx",
        "outputId": "e000ff88-603c-4491-ec07-278022492028"
      },
      "execution_count": 13,
      "outputs": [
        {
          "output_type": "stream",
          "name": "stdout",
          "text": [
            "['subjects', 'teachers', 'teaches']\n"
          ]
        }
      ]
    },
    {
      "cell_type": "code",
      "source": [
        "print(db.table_info)"
      ],
      "metadata": {
        "colab": {
          "base_uri": "https://localhost:8080/"
        },
        "id": "IbrSG7DtWSEE",
        "outputId": "1c836b2f-9a93-46c4-c3aa-6e636aa1a4ea"
      },
      "execution_count": 14,
      "outputs": [
        {
          "output_type": "stream",
          "name": "stdout",
          "text": [
            "\n",
            "CREATE TABLE subjects (\n",
            "\tsubject_id INTEGER, \n",
            "\tsubject_name TEXT NOT NULL, \n",
            "\tPRIMARY KEY (subject_id)\n",
            ")\n",
            "\n",
            "/*\n",
            "3 rows from subjects table:\n",
            "subject_id\tsubject_name\n",
            "1\tMathematics\n",
            "2\tScience\n",
            "3\tHistory\n",
            "*/\n",
            "\n",
            "\n",
            "CREATE TABLE teachers (\n",
            "\tteacher_id INTEGER, \n",
            "\tname TEXT NOT NULL, \n",
            "\tage INTEGER NOT NULL, \n",
            "\tPRIMARY KEY (teacher_id)\n",
            ")\n",
            "\n",
            "/*\n",
            "3 rows from teachers table:\n",
            "teacher_id\tname\tage\n",
            "1\tKamal\t42\n",
            "2\tSaman\t29\n",
            "3\tPawan\t34\n",
            "*/\n",
            "\n",
            "\n",
            "CREATE TABLE teaches (\n",
            "\tid INTEGER, \n",
            "\tteacher_id INTEGER, \n",
            "\tsubject_id INTEGER, \n",
            "\tPRIMARY KEY (id), \n",
            "\tFOREIGN KEY(teacher_id) REFERENCES teachers (teacher_id), \n",
            "\tFOREIGN KEY(subject_id) REFERENCES subjects (subject_id)\n",
            ")\n",
            "\n",
            "/*\n",
            "3 rows from teaches table:\n",
            "id\tteacher_id\tsubject_id\n",
            "1\t1\t1\n",
            "2\t1\t2\n",
            "3\t2\t3\n",
            "*/\n"
          ]
        }
      ]
    },
    {
      "cell_type": "markdown",
      "source": [
        "**Initialize LLM**"
      ],
      "metadata": {
        "id": "Z3_7sqv-WdvT"
      }
    },
    {
      "cell_type": "code",
      "source": [
        "from langchain_openai import ChatOpenAI\n",
        "\n",
        "llm = ChatOpenAI(model=\"gpt-3.5-turbo\", temperature=0)  # temperature of 0 means that the highest probability tokens are always selected"
      ],
      "metadata": {
        "id": "82KkwEG7Wexh"
      },
      "execution_count": 15,
      "outputs": []
    },
    {
      "cell_type": "markdown",
      "source": [
        "**Create SQL Generation Chain**"
      ],
      "metadata": {
        "id": "ofUybO51WyrD"
      }
    },
    {
      "cell_type": "code",
      "source": [
        "from langchain.chains import create_sql_query_chain\n",
        "\n",
        "query_generate = create_sql_query_chain(llm, db)"
      ],
      "metadata": {
        "id": "x3V_g2McWxWx"
      },
      "execution_count": 16,
      "outputs": []
    },
    {
      "cell_type": "markdown",
      "source": [
        "**Setup SQL Execution Tool**"
      ],
      "metadata": {
        "id": "pLsbw14nW7dW"
      }
    },
    {
      "cell_type": "code",
      "source": [
        "from langchain_community.tools import QuerySQLDatabaseTool\n",
        "\n",
        "query_execute = QuerySQLDatabaseTool(db=db)"
      ],
      "metadata": {
        "id": "HKsJ9NgkW8rS"
      },
      "execution_count": 17,
      "outputs": []
    },
    {
      "cell_type": "code",
      "source": [
        "query = query_generate.invoke({\"question\": \"Details of all teachers\"})\n",
        "print(query)"
      ],
      "metadata": {
        "colab": {
          "base_uri": "https://localhost:8080/"
        },
        "id": "rN1UO-ukXB3-",
        "outputId": "d5090710-7578-49d3-f28c-7ddf49f829f2"
      },
      "execution_count": 18,
      "outputs": [
        {
          "output_type": "stream",
          "name": "stdout",
          "text": [
            "SELECT \"teacher_id\", \"name\", \"age\" FROM teachers\n"
          ]
        }
      ]
    },
    {
      "cell_type": "code",
      "source": [
        "query_execute.invoke(query)"
      ],
      "metadata": {
        "colab": {
          "base_uri": "https://localhost:8080/",
          "height": 36
        },
        "id": "7lDwTaqbXIkG",
        "outputId": "31aac02c-1cb1-40d7-e389-dba6587347e4"
      },
      "execution_count": 19,
      "outputs": [
        {
          "output_type": "execute_result",
          "data": {
            "text/plain": [
              "\"[(1, 'Kamal', 42), (2, 'Saman', 29), (3, 'Pawan', 34)]\""
            ],
            "application/vnd.google.colaboratory.intrinsic+json": {
              "type": "string"
            }
          },
          "metadata": {},
          "execution_count": 19
        }
      ]
    },
    {
      "cell_type": "code",
      "source": [
        "query = query_generate.invoke({\"question\": \"Which teachers are assigned to teach Mathematics?\"})\n",
        "print(query)"
      ],
      "metadata": {
        "colab": {
          "base_uri": "https://localhost:8080/"
        },
        "id": "85Xc49vjXL8e",
        "outputId": "5a9cef10-1fc4-4ebf-dd5c-c5dce22dde57"
      },
      "execution_count": 20,
      "outputs": [
        {
          "output_type": "stream",
          "name": "stdout",
          "text": [
            "SELECT t.name\n",
            "FROM teachers t\n",
            "JOIN teaches te ON t.teacher_id = te.teacher_id\n",
            "JOIN subjects s ON te.subject_id = s.subject_id\n",
            "WHERE s.subject_name = \"Mathematics\"\n",
            "LIMIT 5;\n"
          ]
        }
      ]
    },
    {
      "cell_type": "code",
      "source": [
        "query_execute.invoke(query)"
      ],
      "metadata": {
        "colab": {
          "base_uri": "https://localhost:8080/",
          "height": 36
        },
        "id": "Igg4CriMXYyF",
        "outputId": "6e620b63-a257-49f6-94ff-61d07921375a"
      },
      "execution_count": 21,
      "outputs": [
        {
          "output_type": "execute_result",
          "data": {
            "text/plain": [
              "\"[('Kamal',)]\""
            ],
            "application/vnd.google.colaboratory.intrinsic+json": {
              "type": "string"
            }
          },
          "metadata": {},
          "execution_count": 21
        }
      ]
    },
    {
      "cell_type": "markdown",
      "source": [
        "**Create Answer Generator Chain**"
      ],
      "metadata": {
        "id": "Fh3ysZz3XdFJ"
      }
    },
    {
      "cell_type": "code",
      "source": [
        "from operator import itemgetter\n",
        "\n",
        "from langchain_core.output_parsers import StrOutputParser\n",
        "from langchain_core.prompts import PromptTemplate\n",
        "from langchain_core.runnables import RunnablePassthrough\n",
        "\n",
        "answer_prompt = PromptTemplate.from_template(\n",
        "    \"\"\"Given a user question, the generated SQL query, and its result, write a clear and natural answer to the question.\n",
        "\n",
        "    User Question: {question}\n",
        "    SQL Query: {query}\n",
        "    SQL Result: {result}\n",
        "\n",
        "    Final Answer:\"\"\"\n",
        ")\n",
        "\n",
        "final_answer = answer_prompt | llm | StrOutputParser()"
      ],
      "metadata": {
        "id": "Pfs1LvMTXb2t"
      },
      "execution_count": 22,
      "outputs": []
    },
    {
      "cell_type": "code",
      "source": [
        "chain = (\n",
        "    RunnablePassthrough.assign(query=query_generate).assign(\n",
        "        result=itemgetter(\"query\") | query_execute\n",
        "    )\n",
        "    | final_answer\n",
        ")"
      ],
      "metadata": {
        "id": "HSjiJs_gX1_a"
      },
      "execution_count": 23,
      "outputs": []
    },
    {
      "cell_type": "code",
      "source": [
        "chain.invoke({\"question\": \"Details of all teachers\"})"
      ],
      "metadata": {
        "colab": {
          "base_uri": "https://localhost:8080/",
          "height": 53
        },
        "id": "S4ZzD01vYByF",
        "outputId": "7fb77ae8-752c-4ada-930b-cf49480eb6de"
      },
      "execution_count": 24,
      "outputs": [
        {
          "output_type": "execute_result",
          "data": {
            "text/plain": [
              "'Here are the details of all teachers: \\n1. Teacher ID: 1, Name: Kamal, Age: 42\\n2. Teacher ID: 2, Name: Saman, Age: 29\\n3. Teacher ID: 3, Name: Pawan, Age: 34'"
            ],
            "application/vnd.google.colaboratory.intrinsic+json": {
              "type": "string"
            }
          },
          "metadata": {},
          "execution_count": 24
        }
      ]
    },
    {
      "cell_type": "code",
      "source": [
        "chain.invoke({\"question\": \"Which teachers are assigned to teach Mathematics?\"})"
      ],
      "metadata": {
        "colab": {
          "base_uri": "https://localhost:8080/",
          "height": 36
        },
        "id": "kgazdlcFYPcf",
        "outputId": "c4348773-9afc-496c-9b05-323c3c4f4c36"
      },
      "execution_count": 25,
      "outputs": [
        {
          "output_type": "execute_result",
          "data": {
            "text/plain": [
              "'Kamal is the teacher assigned to teach Mathematics.'"
            ],
            "application/vnd.google.colaboratory.intrinsic+json": {
              "type": "string"
            }
          },
          "metadata": {},
          "execution_count": 25
        }
      ]
    }
  ]
}